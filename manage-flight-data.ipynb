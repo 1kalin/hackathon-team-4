{
 "cells": [
  {
   "cell_type": "code",
   "execution_count": null,
   "metadata": {},
   "outputs": [],
   "source": [
    "# cleansing the data by identifying null values and replacing them with an appropriate value (zero in this case) in the file data/flights.csv\n",
    "import pandas as pd\n",
    "\n",
    "flights = pd.read_csv('data/flights.csv')\n",
    "print(flights.head())\n",
    "print(flights.shape)\n",
    "\n",
    "# check for null values\n",
    "print(flights.isnull().sum())\n",
    "\n",
    "# replace null values with zero\n",
    "flights.fillna(0, inplace=True)\n",
    "\n",
    "# check for null values\n"
   ]
  }
 ],
 "metadata": {
  "language_info": {
   "name": "python"
  }
 },
 "nbformat": 4,
 "nbformat_minor": 2
}
